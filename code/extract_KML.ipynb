{
 "cells": [
  {
   "cell_type": "code",
   "execution_count": null,
   "metadata": {},
   "outputs": [],
   "source": [
    "import simplekml\n",
    "\n",
    "def read_kml_file(file_path):\n",
    "    kml = simplekml.Kml()\n",
    "    \n",
    "    # Load KML file\n",
    "    with open(file_path, 'r', encoding='utf-8') as kml_file:\n",
    "        kml.from_string(kml_file.read())\n",
    "    \n",
    "    # Access and manipulate KML data as needed\n",
    "    for placemark in kml.features():\n",
    "        print(f\"Placemark Name: {placemark.name}\")\n",
    "        if hasattr(placemark, 'geometry'):\n",
    "            print(f\"Coordinates: {placemark.geometry.coordinates}\")\n",
    "    \n",
    "    # Other processing or analysis can be performed based on your requirements\n",
    "\n",
    "# Replace 'your_file.kml' with the actual path to your KML file\n",
    "read_kml_file('your_file.kml')\n"
   ]
  }
 ],
 "metadata": {
  "kernelspec": {
   "display_name": "Python 3",
   "language": "python",
   "name": "python3"
  },
  "language_info": {
   "codemirror_mode": {
    "name": "ipython",
    "version": 3
   },
   "file_extension": ".py",
   "mimetype": "text/x-python",
   "name": "python",
   "nbconvert_exporter": "python",
   "pygments_lexer": "ipython3",
   "version": "3.11.4"
  }
 },
 "nbformat": 4,
 "nbformat_minor": 2
}
