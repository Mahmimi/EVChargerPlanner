{
 "cells": [
  {
   "cell_type": "code",
   "execution_count": 1,
   "metadata": {},
   "outputs": [],
   "source": [
    "import googlemaps\n",
    "\n",
    "# Replace 'YOUR_API_KEY' with your actual Google Maps API key\n",
    "api_key = ''\n",
    "gmaps = googlemaps.Client(key=api_key)\n",
    "\n",
    "# Example usage\n",
    "origin_location = (19.229801521495578, 99.53510967653419)\n",
    "destination_location = (18.803585753872834, 98.9536663008547)\n",
    "waypoints = None"
   ]
  },
  {
   "cell_type": "code",
   "execution_count": 71,
   "metadata": {},
   "outputs": [
    {
     "data": {
      "text/plain": [
       "'6GJM+6X3, Wiang Kalong, Wiang Pa Pao District, Chiang Rai 57260, Thailand'"
      ]
     },
     "execution_count": 71,
     "metadata": {},
     "output_type": "execute_result"
    }
   ],
   "source": [
    "# Look up an address with reverse geocoding\n",
    "home = gmaps.reverse_geocode(origin_location)\n",
    "home[0]['formatted_address']"
   ]
  },
  {
   "cell_type": "code",
   "execution_count": 72,
   "metadata": {},
   "outputs": [
    {
     "data": {
      "text/plain": [
       "'RX33+9CX, Suthep, Mueang Chiang Mai District, Chiang Mai 50200, Thailand'"
      ]
     },
     "execution_count": 72,
     "metadata": {},
     "output_type": "execute_result"
    }
   ],
   "source": [
    "math_department = gmaps.reverse_geocode(destination_location)\n",
    "math_department[0]['formatted_address']"
   ]
  },
  {
   "cell_type": "code",
   "execution_count": 73,
   "metadata": {},
   "outputs": [],
   "source": [
    "from datetime import datetime\n",
    "\n",
    "# Request directions via public transit\n",
    "now = datetime.now()\n",
    "directions_result = gmaps.directions(origin_location,\n",
    "                                     destination_location,\n",
    "                                     mode=\"driving\",\n",
    "                                     departure_time=now)\n",
    "\n",
    "directions_result = directions_result[0]"
   ]
  },
  {
   "cell_type": "code",
   "execution_count": 88,
   "metadata": {},
   "outputs": [
    {
     "data": {
      "text/plain": [
       "{'bounds': {'northeast': {'lat': 19.233652, 'lng': 99.5351625},\n",
       "  'southwest': {'lat': 18.8013176, 'lng': 98.95347509999999}},\n",
       " 'copyrights': 'Map data ©2024 Google',\n",
       " 'legs': [{'distance': {'text': '91.2 km', 'value': 91234},\n",
       "   'duration': {'text': '1 hour 32 mins', 'value': 5502},\n",
       "   'duration_in_traffic': {'text': '1 hour 17 mins', 'value': 4592},\n",
       "   'end_address': 'RX33+9CX, Suthep, Mueang Chiang Mai District, Chiang Mai 50200, Thailand',\n",
       "   'end_location': {'lat': 18.8038525, 'lng': 98.9536725},\n",
       "   'start_address': '6GJM+6X3, Wiang Kalong, Wiang Pa Pao District, Chiang Rai 57260, Thailand',\n",
       "   'start_location': {'lat': 19.229799, 'lng': 99.5351103},\n",
       "   'steps': [{'distance': {'text': '17 m', 'value': 17},\n",
       "     'duration': {'text': '1 min', 'value': 3},\n",
       "     'end_location': {'lat': 19.2298321, 'lng': 99.53526959999999},\n",
       "     'html_instructions': 'Head <b>east</b><div style=\"font-size:0.9em\">Restricted usage road</div>',\n",
       "     'polyline': {'points': 'gyjtBmmo~QE_@'},\n",
       "     'start_location': {'lat': 19.229799, 'lng': 99.5351103},\n",
       "     'travel_mode': 'DRIVING'},\n",
       "    {'distance': {'text': '0.4 km', 'value': 426},\n",
       "     'duration': {'text': '1 min', 'value': 54},\n",
       "     'end_location': {'lat': 19.2334781, 'lng': 99.53407779999999},\n",
       "     'html_instructions': 'Turn <b>left</b>',\n",
       "     'maneuver': 'turn-left',\n",
       "     'polyline': {'points': 'myjtBmno~QgATcB\\\\aBZi@HIBG@KDGBIF_@P]P]JEBy@T]JG@E@KBOBg@DeBR'},\n",
       "     'start_location': {'lat': 19.2298321, 'lng': 99.53526959999999},\n",
       "     'travel_mode': 'DRIVING'},\n",
       "    {'distance': {'text': '2.0 km', 'value': 1956},\n",
       "     'duration': {'text': '3 mins', 'value': 156},\n",
       "     'end_location': {'lat': 19.2328048, 'lng': 99.5154929},\n",
       "     'html_instructions': 'Turn <b>left</b>',\n",
       "     'maneuver': 'turn-left',\n",
       "     'polyline': {'points': 'gpktB_go~Q?p@Ah@Cb@Eh@Gd@CREVAVAX?X?VBnC?X?R?l@?|C?hC?d@?fB@lABzBDnBHzCFdCJdCB`ABbAb@|OJxE?PPnE@^L~EFlEFxBF~BFbB@T'},\n",
       "     'start_location': {'lat': 19.2334781, 'lng': 99.53407779999999},\n",
       "     'travel_mode': 'DRIVING'},\n",
       "    {'distance': {'text': '17.4 km', 'value': 17352},\n",
       "     'duration': {'text': '16 mins', 'value': 964},\n",
       "     'end_location': {'lat': 19.1084592, 'lng': 99.4548835},\n",
       "     'html_instructions': 'Turn <b>left</b> onto <b>Route 118</b><div style=\"font-size:0.9em\">Pass by Market Mae Chedi (on the left in 3.9 km)</div>',\n",
       "     'maneuver': 'turn-left',\n",
       "     'polyline': {'points': '_lktByrk~QvDWb@CbRkAl@E`BKj@C`@CXAzDUPAnDSx@ElBKxAKfH_@PCfAG~AI~AIFAbEUfBKhCOnF[nBMnBKl@GD?vESlBIhDMfAGfAExCOzCMZA~@GVALAt@AxAAN?T?|E?t@DD?vCRt@Dl@Dr@DB?f@Fh@FxBTzAPdALH?fCTxAJXBD@VBfCPbBH\\\\@b@@`@?pBBdBBN@P?`ADjC\\\\l@JR@~ATnD^n@FbAHpALPDnBb@nBb@h@JZNZLdBpAn@p@VXPRhAjAvA~@n@b@l@b@t@h@rCnBfBjAbB`Aj@\\\\XPhEvBz@f@TRPNn@f@dAn@x@f@h@\\\\`@TLHHBrAb@D@j@RTJh@TLFFD@@d@l@Zj@BFLVBFJXN`@@@\\\\`A^fATVJXN`@Xn@Td@Vd@`@f@^ZXTNHfBfANHLHt@d@lAp@jAv@xE|Ch@R`@Lb@ND@l@JVDf@BVAVAn@Ix@Ul@MjAe@tAk@VK|Ak@p@UbAOPAj@IXAJAV?J?D?f@@p@DtABh@Bf@BT?R@H@N?X@`BHd@@V@J@T@X@`ADp@BN@l@@j@BD?T@T?b@@F?p@Az@CZA|AC\\\\?nFO|FOf@Aj@AF?zAET?t@Cj@CFAb@A^Az@AnAG|@CZ@hBDd@Df@DD?`@J`ARx@V|@^LFFBhCnAp@ZpBbAj@VPHtDhBh@VZNx@`@VLj@VbAf@~BhA\\\\PrAn@`Ad@|Bx@jARb@HLBpBN~BLdB@D@b@BV@J@~@FvCLvBP`KjAp@HdALr@Hl@N|@R`@LnA`@f@N\\\\LZHn@VXJVJl@Rn@TlAb@NFx@XfC~@F@nBr@`@Nb@Nh@RRHb@NXJJDx@XjA`@p@VlBn@b@NLDNDNFb@Nj@RJBBBLDxBv@b@PFBXJD@JFrAl@dCvADBVN|BpAr@\\\\bA\\\\XHd@Bf@DFAb@?TALCzCg@bF_AdDk@nASp@Ij@AB?l@Bb@Dh@JRFZHTFz@XJBtA`@x@T^L^Lp@PFBf@Nb@LF@j@PfA^LF\\\\LLDNFTHHDHDFBNHDBLHLHRNNLLLb@`@TRXZHFVVl@j@d@b@TRb@b@h@f@j@l@Z\\\\Zb@@DV^Xn@JTj@|ALXx@|Bn@hBZx@Rl@Ph@n@hBTn@BFFR^pA@BJb@BHRz@R|@DTHf@RbA?@ThALr@Nr@Hd@@?Jb@FRHXZ|@Vl@\\\\r@?@Vb@JRLNNRPV\\\\b@`@b@DDv@|@TVPPRTX^b@f@RVPPPRNPNP@@RTNNFJNPPRHJPV@?R\\\\P\\\\NZDHJTJXHPZn@LV^v@Tb@Zt@LX?@b@`AFPHPJ\\\\BFBNBLDZB^@ZA\\\\A^CZGl@Ef@ADE\\\\?BId@ETGTIPIPMTUX_@d@u@z@MPGFILIPIPGPGNEPEPCXC^EfA?BAXCp@C`@?JCf@AV@T@V@T@J@JBTDNFVFTHRJTFRHRTf@JVPb@JRVp@HRVf@NVNTBDVZLL`@\\\\t@f@b@XZXFDFFPPNTFJFLNXDHRb@LZRb@N\\\\Vl@JVJTR`@JTJRLPLRLR^d@RV\\\\ZXVjA|@NHtAx@jAp@PLXPRPTPVXLLJNf@z@Xb@V^^z@l@dAbAfB`C|DRZ^r@PZNXNZLVN\\\\FXH\\\\Jf@DTBV@DFl@B^Bb@Dd@Hb@H^JZP\\\\JRRVRRNNPLPJRJf@P~@Zl@RPF~@ZnA`@t@T`ANf@Lh@JVH^JPNNPHXNf@Jx@CdAAr@'},\n",
       "     'start_location': {'lat': 19.2328048, 'lng': 99.5154929},\n",
       "     'travel_mode': 'DRIVING'},\n",
       "    {'distance': {'text': '10.9 km', 'value': 10917},\n",
       "     'duration': {'text': '10 mins', 'value': 618},\n",
       "     'end_location': {'lat': 19.0657027, 'lng': 99.37485439999999},\n",
       "     'html_instructions': 'Continue straight to stay on <b>Route 118</b>',\n",
       "     'maneuver': 'straight',\n",
       "     'polyline': {'points': '{bssB_x_~Q?fA?xA@f@@d@@f@?t@BRFf@N\\\\j@j@LLdA|@x@f@j@f@v@n@~AlA\\\\Tv@l@\\\\VJHNJVPDBXTv@d@DBXLF@|@NrBF@?rBCbB?z@?zA?XD`@FVFh@NdAn@lCxBfBpA\\\\Xj@b@dAz@pAdA^ZnAdABBXXV^HTPh@T~@Hd@Dn@?@CjA?XCp@?FABA\\\\IfE@hBB^Dr@PjAXdAh@jADFr@~@t@x@|@t@d@`@ZXXVNLHJV\\\\j@r@Zl@Ld@NhCD`B?jA?N?x@@bBBt@@t@HjAFb@Lv@\\\\dBLl@Nn@?@PhADTDXd@fCDRDNX|AZrBLbADr@An@QbAGPGLIRCDi@r@EF_@n@QZM`@E\\\\@XF^JVDFHJ@BJJVXl@d@h@l@h@x@Zl@DJLb@BFNt@@X@TBf@@xA?P?R?~@Az@Kr@c@vAYn@Ol@GZC\\\\D`@DZFRJPFFJHDDHDr@^l@^JNNRLXFTFr@@bA@P?BDVBLFPFJLJJJt@d@|@^\\\\\\\\LXHPBJ@D@l@BnABXBPBLDHNVRV@?v@f@hAp@~@x@`AjA^r@Vf@n@rATt@\\\\|@PbARjANdABL@BJj@BLH^@FD\\\\BLDx@Cf@Eb@If@Ib@AD_@vAMz@CX?RBT@BHX@@@BRVRLFF`@Pb@Pj@Xb@^BBZ^P`@DJFP?BDNBNZlB?@J`@?BH\\\\@@N`@LZVb@@BNXr@v@V\\\\TX@@VZ@Bh@j@x@z@d@d@j@|@FNP`@@BJ\\\\JZJ^Jf@HlADj@Bb@Bf@LbB?J@RBPHf@J^BHT^`@j@f@jADZ?D@RAPAXIz@CXATAN?N@TBPDPFV`@nAXl@HJHRLX^l@PP^^VNZTBB^f@HNLXBFL`@FNR~@Vt@Zh@XT\\\\LLDRDD@R@HAXCl@Ur@k@t@s@f@a@b@QXGp@OFAXCH?l@@^@r@Rf@\\\\b@\\\\NT^Zj@x@\\\\v@Np@LhBUtBW~AW|B?@KnABZJh@P^XX\\\\VZP@?j@PrA^j@Xr@b@^Tx@j@|@t@h@d@f@p@LLX\\\\x@nAz@pAj@x@LN^h@b@n@TZl@`Av@`Ad@v@^v@NXxAvCt@rAFFRX@B|BzCdAvAJPRZ@B`@p@r@z@r@p@DB@@b@Tx@^r@Xv@j@x@z@`@v@Np@@@?@LrARjBV|@Pb@N\\\\@Bx@|@d@p@T\\\\P\\\\@@Xl@j@tADJp@bBHR@B^`AJp@DXD`@@F?bA?@?v@?P?@@d@?d@?F@dBCdAAp@?`@K~@QlAAHE`@AH?x@?FBTFd@BPNf@\\\\fAZt@`@n@n@p@j@n@'},\n",
       "     'start_location': {'lat': 19.1084592, 'lng': 99.4548835},\n",
       "     'travel_mode': 'DRIVING'},\n",
       "    {'distance': {'text': '20.5 km', 'value': 20514},\n",
       "     'duration': {'text': '16 mins', 'value': 964},\n",
       "     'end_location': {'lat': 18.9548987, 'lng': 99.23459659999999},\n",
       "     'html_instructions': 'Continue straight to stay on <b>Route 118</b>',\n",
       "     'maneuver': 'straight',\n",
       "     'polyline': {'points': 'swjsBycp}QDHb@b@Zb@LRDJP^HPFN@@Rj@Tz@`@vADNL`@HTFJP\\\\?@@@RZFJv@t@lArA\\\\j@DHJV?@N^FN\\\\hAb@rAL`@?@Nh@X`ALh@@Z@NDt@Dz@@R@FDZNn@Xx@d@t@j@fAP^j@z@@@BFPRTXb@`@TNZVZVXVfAvAT\\\\T\\\\JLZf@j@x@RXVj@Pb@Dh@B^Cl@A`A?@BZ?F?BLf@NVDHXh@BDBD`@v@\\\\pATfA@FDR@FJ`@DL\\\\`A^l@BB?@T^Zh@p@lAVb@R\\\\JNBHBDb@hAh@|A^dBFh@V`CP~B@VLp@BJHTN^TZBBd@\\\\TFRFLBXDp@@fBFj@?nBBf@Db@Fj@PXNXV`@j@PZRl@Jx@HxABzA?HFlATpAP~@Ld@Rj@Zx@LTBDFJVZLNNJRFTBp@FnAFdARxAh@TLb@Vv@l@RXNXBHJ\\\\N`@Vp@Tb@b@p@n@x@JX@BNb@Pr@RjALv@TbA@Fb@jAlAnBpAxBPXPX@B`A`Bn@hAb@t@RVv@fAbArAd@n@NPnA`Bl@p@t@|@ZZXXTRDBTRDBXV@?zAtAz@bAVb@PV@DPXR\\\\BDNXBDR^R\\\\LV`AfBNXBDBFJP@D`CnEd@`ALVXl@`@`ADHHRN^\\\\|@Tv@FRLb@J\\\\XfARr@Jv@D\\\\@FDVBJFb@Hh@DT@HNrARdB@HP|A?FBZ?HDd@?HD`A?LDnA@R@t@BTDX@H?BJ`@Ld@d@x@Pb@L\\\\z@bBJPf@bADHFJ\\\\r@Xn@v@vAp@hAt@v@d@ZZRVLh@Tj@XPH^R\\\\PTLzA|@DB@@vB~@FDtAx@b@T^RRLFB@@z@f@^Tz@f@b@VdBx@r@ZRJHDPHl@X^P\\\\PTLHDr@^hAh@^PJFdAj@HDZNB@`Bx@ZP\\\\RRLHDPJJHv@l@RND@BDVXf@j@HJLRFHn@v@@Br@nAf@lAJTLZFPf@zAbAdCJXr@lBN`@JXf@hAf@fAPXR\\\\~BvDh@|@jDrFd@r@l@fA`DbFl@`ANVp@|@p@z@@BpAx@B@dA`@z@\\\\b@PZPh@Vx@v@t@jAR^rA`Dv@vAHNX`@TZ^l@xCrDVZTZJXNl@Fj@Bl@Al@Iz@Sr@U~@CRAT@b@@NDd@F`@Rn@HPJLZf@j@bAt@nAbA|ApAvBZf@R\\\\fBpCl@z@BBl@x@`ArA|@pAh@p@TZh@h@d@f@|AhBVZd@l@HJb@l@\\\\j@lAxB@@p@nA^p@j@z@h@r@DDRRNNh@d@VTZVv@l@lB`BBBzBfBf@b@p@l@^ZRNZVFFHDHFZVHFPNDBTPfA|@jAt@VFx@PZFn@Bn@APCnCa@PCl@Kn@Cf@?j@Dx@Nb@L\\\\PHDRHZVrAnANNhAdAl@j@BBp@n@@?p@v@TXLPd@v@Rb@DHVd@Z~@?@\\\\`AHVZ`ATp@L^BDJZFPPd@^t@x@~AR^R^R^f@|@pAbCh@`Af@~@R^R^DHNRR\\\\T^FJl@bATn@BDJZN`@?@J`@Jb@DRNx@J\\\\FXBHR^BFNVHLb@`@`@Z@@\\\\J@@l@L`@HVBb@@h@AZCPCtASJAHAXAb@BRBF@h@NPDTHVFNDRJPNLLHF@@HLHLBDFJFJJTN^Ph@@DJp@DVJx@Df@Dd@Hx@@NLnBDv@J~@Hp@@NRrCD\\\\Fn@Lz@Tt@DLJZRZLTXVTPd@ZbB`A~@h@^ZXTVXZ\\\\b@f@^l@n@pAp@lAbB|CDFrAzBfBjCv@`AbAvA`@b@x@bAh@l@hAzA@BpAvAp@p@f@l@lAnA^^NLnAnAnAjAlAhADDDD|@`Al@p@h@t@r@jAl@lA~A`Dr@rAp@lAb@x@Tb@pBxD|@~A\\\\r@^j@NTZZTRNHRJTJJBTHJ@TDLBJ@V@H?p@AHAZCj@C\\\\ARAD?f@BJBh@JB@XF\\\\N\\\\P@?FFHFRPPPRZ^f@LPDHRZ@@LRFJBDXb@d@z@DJDJVh@d@jAPd@BJXt@DLHTDJDHv@hBRd@DJ\\\\z@r@pB^bAJ^HZX~@?DBFHZN^BFJRPZf@v@d@n@DFFJT\\\\T\\\\`@r@h@fAz@bBp@rA^t@f@`A@BNZf@~@v@zAdA|BDHlA`CP\\\\R^R^NX@DjA`C@@N\\\\^v@Xf@NVf@fAd@fAVl@Z~@BFV|@BF`@~APf@HZ@BLZ@DN^LVLTf@n@^^n@f@lDhBhAf@TLf@TDB`@Rz@d@f@Xj@ZHFPRTVHHNRJNVb@j@dAX^HLl@j@`@VTJv@Zf@HZB\\\\Dv@BT?H?J?R?XATAp@C\\\\EPCNCVG`@MdAYd@MTIdAYNCf@GXE`@?`A@bAJ|@NB@r@Vn@T'},\n",
       "     'start_location': {'lat': 19.0657027, 'lng': 99.37485439999999},\n",
       "     'travel_mode': 'DRIVING'},\n",
       "    {'distance': {'text': '3.9 km', 'value': 3865},\n",
       "     'duration': {'text': '3 mins', 'value': 186},\n",
       "     'end_location': {'lat': 18.9247568, 'lng': 99.23970059999999},\n",
       "     'html_instructions': 'Continue onto <b>Route 118</b>',\n",
       "     'polyline': {'points': 'ccurBgwt|QXPp@`@n@r@RTVZp@v@BBPR@BN^rA~CBDXh@^l@BDDDRRBDLL~@h@d@RZJJBXFl@Db@?Z?b@ENA^G`@Ot@Uj@QnC_Ap@WPGh@Sf@QXKb@SvAw@v@o@h@c@bA}@rAeAd@]l@a@b@QTKRGn@I@?z@CpAD`@?ZCj@MLENGLK^_@Xc@BCLYVm@t@qBZu@@ENa@LWLQPOx@i@DA@?FCB?RC@?@?F?j@Bz@HbAHH@^DXBH?p@?p@A`@Cj@IB?PCLC\\\\KbEgB|Aq@l@Yv@[VIhAYHCXCxBQb@CLAvDWNAb@Cj@EpDM\\\\AfBCh@Dd@Fx@LB@`@L`@NJDRHPHJFHDpCjBlAl@j@RbAJb@Cx@Gn@KPENERGLE`@MZMd@Q~B}@`Bs@zBaAbCkAxAk@^O^OBAnDuA'},\n",
       "     'start_location': {'lat': 18.9548987, 'lng': 99.23459659999999},\n",
       "     'travel_mode': 'DRIVING'},\n",
       "    {'distance': {'text': '0.7 km', 'value': 714},\n",
       "     'duration': {'text': '1 min', 'value': 34},\n",
       "     'end_location': {'lat': 18.9196562, 'lng': 99.23739479999999},\n",
       "     'html_instructions': 'Continue straight to stay on <b>Route 118</b>',\n",
       "     'maneuver': 'straight',\n",
       "     'polyline': {'points': 'wforBcwu|QxCeAp@WPG~@Op@K^Al@@f@BTBTHVH^PxAdAz@hArAlBrBpCrBpC'},\n",
       "     'start_location': {'lat': 18.9247568, 'lng': 99.23970059999999},\n",
       "     'travel_mode': 'DRIVING'},\n",
       "    {'distance': {'text': '0.3 km', 'value': 261},\n",
       "     'duration': {'text': '1 min', 'value': 12},\n",
       "     'end_location': {'lat': 18.9181215, 'lng': 99.2355166},\n",
       "     'html_instructions': 'Keep <b>right</b> to stay on <b>Route 118</b>',\n",
       "     'maneuver': 'keep-right',\n",
       "     'polyline': {'points': '{fnrBuhu|QRRLPxC~DrAfBRVNN'},\n",
       "     'start_location': {'lat': 18.9196562, 'lng': 99.23739479999999},\n",
       "     'travel_mode': 'DRIVING'},\n",
       "    {'distance': {'text': '1.1 km', 'value': 1121},\n",
       "     'duration': {'text': '1 min', 'value': 55},\n",
       "     'end_location': {'lat': 18.913024, 'lng': 99.226484},\n",
       "     'html_instructions': 'Continue straight to stay on <b>Route 118</b>',\n",
       "     'maneuver': 'straight',\n",
       "     'polyline': {'points': 'g}mrB_}t|QTX\\\\`@|@hAhA|AbAzAdAlCrApF`B|GZtAPj@^vAL\\\\LZRd@Xj@Vd@h@t@v@dA|BrCr@|@JNn@fA'},\n",
       "     'start_location': {'lat': 18.9181215, 'lng': 99.2355166},\n",
       "     'travel_mode': 'DRIVING'},\n",
       "    {'distance': {'text': '21.5 km', 'value': 21524},\n",
       "     'duration': {'text': '20 mins', 'value': 1172},\n",
       "     'end_location': {'lat': 18.8274482, 'lng': 99.04943259999999},\n",
       "     'html_instructions': 'Continue straight to stay on <b>Route 118</b><div style=\"font-size:0.9em\">Pass by ใบตอง Coffee Break (on the left in 20.9 km)</div>',\n",
       "     'maneuver': 'straight',\n",
       "     'polyline': {'points': 'k}lrBods|QXh@Vr@Tn@N~@?@Jj@FfA@jB@dA@N?VFzAR~A@JNv@p@fCt@jCJZLd@ZdAFRDRX`A\\\\hAVx@hAhD\\\\`APd@T`@h@dA@BJLZh@hA|AHLvBlCBBb@p@~A~B^l@`@p@t@zAj@zAVdAP~@N`AFt@Hz@l@|FNzADd@NpAb@vEFd@Fl@t@vHJbAN|@VdA\\\\dA\\\\x@n@nA`@p@rA|BT^R\\\\DFp@hA|ExH`GxJPXp@hAb@r@h@t@Z^@@|A~AHFPRPVPVJNHPFPFPFP?B@B@DF^BXD\\\\?X?XCVAL?@ANGZG^U`AWhA?@EPAPAZ?D@d@?B@\\\\BPFh@FR?@H\\\\\\\\jA@B^~@Xb@h@r@TTB@VR?@B@\\\\R@?ZT`A`@DBXLZNB?VLDB@@XR@?TTBD@@FJHP?@D\\\\@j@?L?F?f@@h@@FBLFNBDDHLN@@BDd@d@Z\\\\FDZZ@@r@bAn@vA\\\\~@L`@@?@DJXHPHPJTj@fARd@BD@FDP?H@F?V?^AFALAHEVKZKVQVUXuApAKJg@b@A@?@YXKLSREDGHIHOT?@?@GPEJCLABAN?DAT@J@RDZLfAFfABX?d@?t@?fA?L@LBd@Db@F`@Lp@Lb@Lp@VbBd@rBJ\\\\BJJTJRFJDBLLTRRNTLVHVHXF`ALD?f@FTBB@B?LDPFLFNFNJFDFFPRVZHNFJDJXv@Vt@HVHZ\\\\fAn@tBLl@DZ@HDn@?hAANCTANO|@YfCArA@D@d@@|@@P?PHrB?FB~@@ND`@Fl@Hh@@HPhATbANr@~@jCBDDPJRTf@Xj@DFVZLNJJd@d@nAnAh@f@VRd@`@XTVVh@b@ZZXXRPDFn@x@j@dAj@vAFPl@dBVr@n@dBn@hBf@|Ab@hAb@lAn@hBN`@hArC|CxIbAvCBDFNDJnAjDX|@b@hAFR^`A^`AJZPb@Pf@@@BHBFDL?@\\\\~@d@lAt@zBfBxEt@vBbBbFb@jANd@HRZz@\\\\`Ap@jB@BN`@Rl@Xx@Xr@l@zAVr@HRb@|A\\\\z@Vh@Xz@d@nA^dA^bAPb@r@nBzBrGBD@DL^~@lClBjF^bAb@hAXx@Xt@f@rA`@dA^`ABFPb@DJn@zAx@rAlAhBxBzCf@p@fApA|@`AdAfAh@p@v@z@BDpA|Ab@h@FHn@v@r@z@VXV\\\\JJ@Bd@l@b@h@b@l@rBbDl@rAVp@t@tBXx@\\\\~@Rn@Tp@Xp@Vr@r@lB@DdBtE?Bn@jBnAlDrBxFhC~GlCfH~@hCHRZ|@N\\\\jA~CJZ^dATn@~@fCFPBHp@lB`DxIh@xAn@hBL^n@hBN`@Tp@Vp@bLzZ^bAxAbEp@hBr@pBdA|Cf@zAn@fBPh@\\\\fAVz@Nd@Pl@Tn@Nf@BLfDxJX|@Rl@lCtIRl@Tj@h@|At@zBbBxEhCvHFRpCtIz@jCjAdDVr@Vr@lA`DDLHVJVlA`Dh@rAh@zATp@lAlD`GdPn@`B|@`Cl@pAj@~AJVVn@Zt@t@jBBFDHb@`Al@rARb@Rb@~@rBFNbAlB~@jB`AlBzAxCT`@Vd@Xd@fAtBHLh@fAP\\\\h@~@P\\\\NZZh@P\\\\Tb@\\\\p@`CnEDJHN^z@bB`Dn@nALTd@|@~@fB`@t@~AtCnBxDpBvD`@t@^v@nAbC~A|CTd@~@~AnA|BjAbC^x@LTd@z@hBhDLT~@fB~AxC`BxCXn@Zp@Xh@^t@r@rAJRFHhBjDTb@f@~@~@dB`A|Ah@v@f@t@fAzArBlCjBdCLPV\\\\b@j@`BvBj@t@X`@PT\\\\d@zApBDHx@x@'},\n",
       "     'start_location': {'lat': 18.913024, 'lng': 99.226484},\n",
       "     'travel_mode': 'DRIVING'},\n",
       "    {'distance': {'text': '4.2 km', 'value': 4193},\n",
       "     'duration': {'text': '7 mins', 'value': 428},\n",
       "     'end_location': {'lat': 18.8038798, 'lng': 99.0184781},\n",
       "     'html_instructions': 'Keep <b>right</b> to stay on <b>Route 118</b><div style=\"font-size:0.9em\">Pass by Advanced Info Services (on the left in 3.6 km)</div>',\n",
       "     'maneuver': 'keep-right',\n",
       "     'polyline': {'points': 'qf|qB}qp{Qf@t@h@~@\\\\p@h@nAZ~@HR@D^z@@BNZb@x@X^TXh@j@f@\\\\b@ZvA|@JHPJZXn@t@dFxGRXr@|@vAnBdCdDX^fDjEdDlEr@~@j@x@JNHJl@z@^f@^h@LNb@l@n@~@pAfBr@bABBp@`AlD~EdB|B|BzCfApA`@l@^j@z@hAx@jAPTNT`DhE^h@\\\\f@jD|Et@hAv@jAVb@FLDDX^DHDFRX`A`BT^n@bAV^R`@R`@PTZd@LR?@DFDFLRPZRX`@t@^r@PVrAxBrAvBhBjCp@~@TZ^n@\\\\l@nB`DjDjF~AfC^h@bA|AHLLTXb@P\\\\PZ'},\n",
       "     'start_location': {'lat': 18.8274482, 'lng': 99.04943259999999},\n",
       "     'travel_mode': 'DRIVING'},\n",
       "    {'distance': {'text': '1.5 km', 'value': 1549},\n",
       "     'duration': {'text': '3 mins', 'value': 198},\n",
       "     'end_location': {'lat': 18.8096567, 'lng': 99.0064415},\n",
       "     'html_instructions': 'Turn <b>right</b> at <b>ทางแยก ศาลเด็ก</b> onto <b>ทางคู่ขนานถนน สายอ.แม่ริม เชียงใหม่-ลำปาง</b>',\n",
       "     'maneuver': 'turn-right',\n",
       "     'polyline': {'points': 'gswqBopj{QLXFLDHNZOFc@La@NeA\\\\oAj@{Ax@kBnAk@d@m@f@MHq@n@QRgAfAi@n@MPa@j@WZ_@h@MT[r@]v@Yn@KXCJIRMZe@xAA@St@GPGVy@hDG\\\\CVG`@AHCXEV?BCRIr@AJE|AAD?XElA?ZElBADG~A?NALAREjAAFCzACp@?JAl@Ab@'},\n",
       "     'start_location': {'lat': 18.8038798, 'lng': 99.0184781},\n",
       "     'travel_mode': 'DRIVING'},\n",
       "    {'distance': {'text': '29 m', 'value': 29},\n",
       "     'duration': {'text': '1 min', 'value': 2},\n",
       "     'end_location': {'lat': 18.8096598, 'lng': 99.0061673},\n",
       "     'html_instructions': 'Keep <b>right</b> to stay on <b>ทางคู่ขนานถนน สายอ.แม่ริม เชียงใหม่-ลำปาง</b>',\n",
       "     'maneuver': 'keep-right',\n",
       "     'polyline': {'points': 'kwxqBgeh{Q?t@'},\n",
       "     'start_location': {'lat': 18.8096567, 'lng': 99.0064415},\n",
       "     'travel_mode': 'DRIVING'},\n",
       "    {'distance': {'text': '59 m', 'value': 59},\n",
       "     'duration': {'text': '1 min', 'value': 4},\n",
       "     'end_location': {'lat': 18.8098824, 'lng': 99.005681},\n",
       "     'html_instructions': 'Turn <b>right</b> toward <b>Route 11</b>',\n",
       "     'maneuver': 'turn-right',\n",
       "     'polyline': {'points': 'kwxqBqch{QCBCBABABCHETG\\\\CH?BA@A@A?A@A?'},\n",
       "     'start_location': {'lat': 18.8096598, 'lng': 99.0061673},\n",
       "     'travel_mode': 'DRIVING'},\n",
       "    {'distance': {'text': '2.9 km', 'value': 2931},\n",
       "     'duration': {'text': '3 mins', 'value': 152},\n",
       "     'end_location': {'lat': 18.8107214, 'lng': 98.978161},\n",
       "     'html_instructions': 'Turn <b>left</b> onto <b>Route 11</b>',\n",
       "     'maneuver': 'turn-left',\n",
       "     'polyline': {'points': 'wxxqBo`h{QANCr@QhFA`@?B?@Ch@IjDAL?PCn@UnIIzCCf@KvAC^E\\\\AVw@pIEd@Gb@YtC[tCYlCI`ASfBMjAWdCMtAYnCKx@QnBCPGp@K`BMpCA^ChAChA?hFFpC?J@VFzAL`DN~B@R@R@P?F@HBN?NRjDt@|J?H@?XvCJv@Hn@Hf@BRNv@VtAR`ANh@'},\n",
       "     'start_location': {'lat': 18.8098824, 'lng': 99.005681},\n",
       "     'travel_mode': 'DRIVING'},\n",
       "    {'distance': {'text': '1.5 km', 'value': 1544},\n",
       "     'duration': {'text': '2 mins', 'value': 142},\n",
       "     'end_location': {'lat': 18.801339, 'lng': 98.96794249999999},\n",
       "     'html_instructions': 'Keep <b>right</b> to stay on <b>Route 11</b>',\n",
       "     'maneuver': 'keep-right',\n",
       "     'polyline': {'points': '_~xqBotb{Ql@tBJ`@Rl@N`@Nf@lAfDv@fBTf@d@bAj@hAj@bAFJj@bAr@jAr@dAT\\\\f@l@v@|@TXLNHJPTXX~@bAx@v@z@v@h@b@TP^Zj@d@`Av@n@b@VNVPNHVNHDh@\\\\x@d@\\\\RTLp@^ZLTNp@Z~@`@fDjAr@V'},\n",
       "     'start_location': {'lat': 18.8107214, 'lng': 98.978161},\n",
       "     'travel_mode': 'DRIVING'},\n",
       "    {'distance': {'text': '1.6 km', 'value': 1597},\n",
       "     'duration': {'text': '5 mins', 'value': 271},\n",
       "     'end_location': {'lat': 18.8083079, 'lng': 98.9547874},\n",
       "     'html_instructions': 'Turn <b>right</b> onto <b>Route 1004</b><div style=\"font-size:0.9em\">Pass by 7-Eleven (on the left in 350m)</div>',\n",
       "     'maneuver': 'turn-right',\n",
       "     'polyline': {'points': 'kcwqBst`{QLDIPQ^CFKTUf@OXkAhC{@vBo@vA_@|@KVO\\\\}ArDYn@cAjCeAxBWh@OZk@pAa@z@s@|AQ`@i@lAO\\\\EHCFEHCBGNGHEJKTKRgA~By@hBa@~@]r@m@pAGNGNSf@Uh@EJmAzCeAjC{@nB'},\n",
       "     'start_location': {'lat': 18.801339, 'lng': 98.96794249999999},\n",
       "     'travel_mode': 'DRIVING'},\n",
       "    {'distance': {'text': '0.3 km', 'value': 298},\n",
       "     'duration': {'text': '1 min', 'value': 39},\n",
       "     'end_location': {'lat': 18.805932, 'lng': 98.95347509999999},\n",
       "     'html_instructions': 'Turn <b>left</b>',\n",
       "     'maneuver': 'turn-left',\n",
       "     'polyline': {'points': '}nxqBmb~zQVLZNl@VfBx@fChAp@ZvAn@'},\n",
       "     'start_location': {'lat': 18.8083079, 'lng': 98.9547874},\n",
       "     'travel_mode': 'DRIVING'},\n",
       "    {'distance': {'text': '0.1 km', 'value': 134},\n",
       "     'duration': {'text': '1 min', 'value': 17},\n",
       "     'end_location': {'lat': 18.8053702, 'lng': 98.9546029},\n",
       "     'html_instructions': 'Turn <b>left</b>',\n",
       "     'maneuver': 'turn-left',\n",
       "     'polyline': {'points': 'a`xqBgz}zQVk@b@eA`@aAPk@'},\n",
       "     'start_location': {'lat': 18.805932, 'lng': 98.95347509999999},\n",
       "     'travel_mode': 'DRIVING'},\n",
       "    {'distance': {'text': '0.2 km', 'value': 205},\n",
       "     'duration': {'text': '1 min', 'value': 26},\n",
       "     'end_location': {'lat': 18.8039486, 'lng': 98.95388469999999},\n",
       "     'html_instructions': 'At the roundabout, take the <b>2nd</b> exit',\n",
       "     'maneuver': 'roundabout-left',\n",
       "     'polyline': {'points': 'q|wqBga~zQ?AA??A?A?A?A?A?A?A?A?A@??A?A@??A@??A@??A@?@?@A@?@?@?@?@??@@?@??@@?@@?@@??@@??@?@@??@?@?@PV`CbBHJ^JDAF?^DJB'},\n",
       "     'start_location': {'lat': 18.8053702, 'lng': 98.9546029},\n",
       "     'travel_mode': 'DRIVING'},\n",
       "    {'distance': {'text': '28 m', 'value': 28},\n",
       "     'duration': {'text': '1 min', 'value': 5},\n",
       "     'end_location': {'lat': 18.8038525, 'lng': 98.9536725},\n",
       "     'html_instructions': 'At the roundabout, take the <b>2nd</b> exit onto <b>ซอย นครพิงค์ 1</b>',\n",
       "     'maneuver': 'roundabout-left',\n",
       "     'polyline': {'points': 'uswqBw|}zQ@??A@??@@?@?@@?@@??@?@?@?@@FBJ@H'},\n",
       "     'start_location': {'lat': 18.8039486, 'lng': 98.95388469999999},\n",
       "     'travel_mode': 'DRIVING'}],\n",
       "   'traffic_speed_entry': [],\n",
       "   'via_waypoint': []}],\n",
       " 'overview_polyline': {'points': 'gyjtBmmo~QmAIeEx@gATkE`Bi@JmCXAzAUfCIbBBpQl@j[|Ajn@XrJlZmB`SgApWyAj{@iEp[b@j`@lChc@fFr]zVfW`N|FlLzGfHrObJvFXtNsErMFhPj@r`@_AxLC~GhB|a@dSzFzA|I`@jYdCvUxGpYbKfQnHzJtDdUoDlGZ~IjC`J`DzJ`JnExH~FlPfEtRbFjKvIxJnFxJ`CxFRzDi@tEcD|EyA~JzAhJbCjFhEnDdFbKtNvLrOxWlCzMvEnCxKxCxAv@`@`EFtKpA~BbF|DlGtElHfBlN`@|PvM`EhHErF@dKzAdF|G|GlBdDTfIdAvOfBtJhAdHUxDeCpEl@rClElGXlIaB`KpB~BvA|AR~ChBdCrBhBJnCnBzCjFjFzBnFtA`IKdGc@zFxBvAnC`D|@tEbKlNdCjQhBhFMlEjCnG`DlDxC|F`Ew@xFeChDt@~BhCd@hI{@nHz@~BfBz@|KlHzGpJdR`ZbHtFbDpEb@bEbEnHjDnIVzQc@zGrEnJpFhMrE~FxBrGfAtHvC~HlLpN`AdHdA`DzGxPlDnJ~AvLbExAjHPbC`ArAnDTlG~BdIfHfB~FxEnDdHhAzFdE|HfGxJbJ|KpIzJxKfTlEjQxAhS`HtPdEtFhCpA`I`EdQlJ`QxIvIjJpPv^bQfXbIzDhIjNfFxGf@`Dw@zHtDrIrWr^pN~RhPzM`ElCtDZ~Kc@hHlF`FzFxHrRzL~TzDjKnEhA`G_@tFtCvCfTxAlKzH~FzW``@dWpXrMtV`FzGpIXxD~@~BrCxF|L`HpRxLrTlN|X|GbR`T~MrE~FfG~@zNcCvHp@lGjFxDzHxDzBzEAhL}DnKoHnGsBfGeAvC}GfCkCnER~FChMcFhN{AfNQ~DnAtGrDpEKfHeCnTeJ|GuBfDGbBh@|InK|L`PhFdHvGrV|DjJlJ|Nh@nKnDtQ`F~OnEtHbLzQnCxTlD|ZpGdMtZzd@\\\\bHg@lKbDzG|CdBnDdDPxDfBpBbHpN@zBoE~FyBrDt@lPbC~KfBbBtHnB|B|ErBfLo@zJXnInCtLxBxDxHdH~ExHbV~p@hGxPzb@bmAnIdUtJ~OvRjUnJpRvFtOzYjx@vw@x|B`[b}@rWpq@|h@zcAfu@fvAvXb_@`DvHlH`Htb@nj@t\\\\pd@z_@vk@`]di@xArD}N~HkG~G{CtGaE`R_Bn]gAl]_Gbq@kBfUFnTdD`e@rClM`H|PlQhUhPzKbKvE_GxMyPf`@oI|QoD|Ic@|BhAf@xJnEnB_FAG?EDMJCpEfD~@FDJF\\\\'},\n",
       " 'summary': 'Route 118',\n",
       " 'warnings': [],\n",
       " 'waypoint_order': []}"
      ]
     },
     "execution_count": 88,
     "metadata": {},
     "output_type": "execute_result"
    }
   ],
   "source": [
    "directions_result"
   ]
  },
  {
   "cell_type": "code",
   "execution_count": 80,
   "metadata": {},
   "outputs": [
    {
     "name": "stdout",
     "output_type": "stream",
     "text": [
      "Home : 6GJM+6X3, Wiang Kalong, Wiang Pa Pao District, Chiang Rai 57260, Thailand\n",
      "Math Department : RX33+9CX, Suthep, Mueang Chiang Mai District, Chiang Mai 50200, Thailand\n",
      "Total Distance : 91.2 km\n",
      "Normal traffic data duration : 1 hour 32 mins\n",
      "real-time traffic data duration (00.20 o'clock): 1 hour 17 mins\n"
     ]
    }
   ],
   "source": [
    "print(\"Home :\",directions_result['legs'][0]['start_address'])\n",
    "print(\"Math Department :\",directions_result['legs'][0]['end_address'])\n",
    "print(\"Total Distance :\", directions_result['legs'][0]['distance']['text'])\n",
    "print(\"Normal traffic data duration :\", directions_result['legs'][0]['duration']['text'])\n",
    "print(\"real-time traffic data duration (00.20 o'clock):\", directions_result['legs'][0]['duration_in_traffic']['text'])"
   ]
  },
  {
   "cell_type": "code",
   "execution_count": 93,
   "metadata": {},
   "outputs": [
    {
     "data": {
      "text/plain": [
       "{'distance': {'text': '17 m', 'value': 17},\n",
       " 'duration': {'text': '1 min', 'value': 3},\n",
       " 'end_location': {'lat': 19.2298321, 'lng': 99.53526959999999},\n",
       " 'html_instructions': 'Head <b>east</b><div style=\"font-size:0.9em\">Restricted usage road</div>',\n",
       " 'polyline': {'points': 'gyjtBmmo~QE_@'},\n",
       " 'start_location': {'lat': 19.229799, 'lng': 99.5351103},\n",
       " 'travel_mode': 'DRIVING'}"
      ]
     },
     "execution_count": 93,
     "metadata": {},
     "output_type": "execute_result"
    }
   ],
   "source": [
    "route_step = directions_result['legs'][0]['steps']\n",
    "route_step[0]"
   ]
  },
  {
   "cell_type": "code",
   "execution_count": 96,
   "metadata": {},
   "outputs": [],
   "source": [
    "import pandas as pd\n",
    "\n",
    "def get_route_details_dataframe(origin, destination, waypoints=None):\n",
    "    # Set waypoints if provided\n",
    "    waypoints_str = \"|\".join([\"{},{}\".format(*waypoint) for waypoint in waypoints]) if waypoints else None\n",
    "\n",
    "    # Get directions using the Google Maps Directions API\n",
    "    directions_result = gmaps.directions(\n",
    "        origin=\"{},{}\".format(*origin),\n",
    "        destination=\"{},{}\".format(*destination),\n",
    "        waypoints=waypoints_str,\n",
    "        mode=\"driving\"  # You can change the mode to \"walking\", \"bicycling\", etc.\n",
    "    )\n",
    "\n",
    "    # Extract information about the route\n",
    "    if directions_result:\n",
    "        route = directions_result[0]['legs'][0]\n",
    "\n",
    "        # Extract steps information\n",
    "        steps = route['steps']\n",
    "\n",
    "        # Create a DataFrame to store the route details\n",
    "        columns = ['Step', 'Distance', 'Duration', 'Start Location', 'End Location', 'Polyline', 'Travel Mode']\n",
    "        data = []\n",
    "\n",
    "        for step in steps:\n",
    "            step_data = {\n",
    "                'Step': step['html_instructions'],\n",
    "                'Distance': step['distance']['text'],\n",
    "                'Duration': step['duration']['text'],\n",
    "                'Start Location': step['start_location'],\n",
    "                'End Location': step['end_location'],\n",
    "                'Polyline': step['polyline']['points'],\n",
    "                'Travel Mode': step['travel_mode']\n",
    "            }\n",
    "            data.append(step_data)\n",
    "\n",
    "        route_df = pd.DataFrame(data, columns=columns)\n",
    "        return route_df\n",
    "\n",
    "    else:\n",
    "        print(\"Unable to retrieve route details.\")\n",
    "        return None"
   ]
  },
  {
   "cell_type": "code",
   "execution_count": 136,
   "metadata": {},
   "outputs": [],
   "source": [
    "route_step_df = get_route_details_dataframe(origin_location, destination_location)"
   ]
  },
  {
   "cell_type": "code",
   "execution_count": 137,
   "metadata": {},
   "outputs": [
    {
     "data": {
      "text/html": [
       "<div>\n",
       "<style scoped>\n",
       "    .dataframe tbody tr th:only-of-type {\n",
       "        vertical-align: middle;\n",
       "    }\n",
       "\n",
       "    .dataframe tbody tr th {\n",
       "        vertical-align: top;\n",
       "    }\n",
       "\n",
       "    .dataframe thead th {\n",
       "        text-align: right;\n",
       "    }\n",
       "</style>\n",
       "<table border=\"1\" class=\"dataframe\">\n",
       "  <thead>\n",
       "    <tr style=\"text-align: right;\">\n",
       "      <th></th>\n",
       "      <th>Step</th>\n",
       "      <th>Distance</th>\n",
       "      <th>Duration</th>\n",
       "      <th>Start Location</th>\n",
       "      <th>End Location</th>\n",
       "      <th>Polyline</th>\n",
       "      <th>Travel Mode</th>\n",
       "    </tr>\n",
       "  </thead>\n",
       "  <tbody>\n",
       "    <tr>\n",
       "      <th>0</th>\n",
       "      <td>Head &lt;b&gt;east&lt;/b&gt;&lt;div style=\"font-size:0.9em\"&gt;R...</td>\n",
       "      <td>17 m</td>\n",
       "      <td>1 min</td>\n",
       "      <td>{'lat': 19.229799, 'lng': 99.5351103}</td>\n",
       "      <td>{'lat': 19.2298321, 'lng': 99.53526959999999}</td>\n",
       "      <td>gyjtBmmo~QE_@</td>\n",
       "      <td>DRIVING</td>\n",
       "    </tr>\n",
       "    <tr>\n",
       "      <th>1</th>\n",
       "      <td>Turn &lt;b&gt;left&lt;/b&gt;</td>\n",
       "      <td>0.4 km</td>\n",
       "      <td>1 min</td>\n",
       "      <td>{'lat': 19.2298321, 'lng': 99.53526959999999}</td>\n",
       "      <td>{'lat': 19.2334781, 'lng': 99.53407779999999}</td>\n",
       "      <td>myjtBmno~QgATcB\\aBZi@HIBG@KDGBIF_@P]P]JEBy@T]J...</td>\n",
       "      <td>DRIVING</td>\n",
       "    </tr>\n",
       "    <tr>\n",
       "      <th>2</th>\n",
       "      <td>Turn &lt;b&gt;left&lt;/b&gt;</td>\n",
       "      <td>2.0 km</td>\n",
       "      <td>3 mins</td>\n",
       "      <td>{'lat': 19.2334781, 'lng': 99.53407779999999}</td>\n",
       "      <td>{'lat': 19.2328048, 'lng': 99.5154929}</td>\n",
       "      <td>gpktB_go~Q?p@Ah@Cb@Eh@Gd@CREVAVAX?X?VBnC?X?R?l...</td>\n",
       "      <td>DRIVING</td>\n",
       "    </tr>\n",
       "    <tr>\n",
       "      <th>3</th>\n",
       "      <td>Turn &lt;b&gt;left&lt;/b&gt; onto &lt;b&gt;Route 118&lt;/b&gt;&lt;div sty...</td>\n",
       "      <td>17.4 km</td>\n",
       "      <td>16 mins</td>\n",
       "      <td>{'lat': 19.2328048, 'lng': 99.5154929}</td>\n",
       "      <td>{'lat': 19.1084592, 'lng': 99.4548835}</td>\n",
       "      <td>_lktByrk~QvDWb@CbRkAl@E`BKj@C`@CXAzDUPAnDSx@El...</td>\n",
       "      <td>DRIVING</td>\n",
       "    </tr>\n",
       "    <tr>\n",
       "      <th>4</th>\n",
       "      <td>Continue straight to stay on &lt;b&gt;Route 118&lt;/b&gt;</td>\n",
       "      <td>10.9 km</td>\n",
       "      <td>10 mins</td>\n",
       "      <td>{'lat': 19.1084592, 'lng': 99.4548835}</td>\n",
       "      <td>{'lat': 19.0657027, 'lng': 99.37485439999999}</td>\n",
       "      <td>{bssB_x_~Q?fA?xA@f@@d@@f@?t@BRFf@N\\j@j@LLdA|@x...</td>\n",
       "      <td>DRIVING</td>\n",
       "    </tr>\n",
       "  </tbody>\n",
       "</table>\n",
       "</div>"
      ],
      "text/plain": [
       "                                                Step Distance Duration   \n",
       "0  Head <b>east</b><div style=\"font-size:0.9em\">R...     17 m    1 min  \\\n",
       "1                                   Turn <b>left</b>   0.4 km    1 min   \n",
       "2                                   Turn <b>left</b>   2.0 km   3 mins   \n",
       "3  Turn <b>left</b> onto <b>Route 118</b><div sty...  17.4 km  16 mins   \n",
       "4      Continue straight to stay on <b>Route 118</b>  10.9 km  10 mins   \n",
       "\n",
       "                                  Start Location   \n",
       "0          {'lat': 19.229799, 'lng': 99.5351103}  \\\n",
       "1  {'lat': 19.2298321, 'lng': 99.53526959999999}   \n",
       "2  {'lat': 19.2334781, 'lng': 99.53407779999999}   \n",
       "3         {'lat': 19.2328048, 'lng': 99.5154929}   \n",
       "4         {'lat': 19.1084592, 'lng': 99.4548835}   \n",
       "\n",
       "                                    End Location   \n",
       "0  {'lat': 19.2298321, 'lng': 99.53526959999999}  \\\n",
       "1  {'lat': 19.2334781, 'lng': 99.53407779999999}   \n",
       "2         {'lat': 19.2328048, 'lng': 99.5154929}   \n",
       "3         {'lat': 19.1084592, 'lng': 99.4548835}   \n",
       "4  {'lat': 19.0657027, 'lng': 99.37485439999999}   \n",
       "\n",
       "                                            Polyline Travel Mode  \n",
       "0                                      gyjtBmmo~QE_@     DRIVING  \n",
       "1  myjtBmno~QgATcB\\aBZi@HIBG@KDGBIF_@P]P]JEBy@T]J...     DRIVING  \n",
       "2  gpktB_go~Q?p@Ah@Cb@Eh@Gd@CREVAVAX?X?VBnC?X?R?l...     DRIVING  \n",
       "3  _lktByrk~QvDWb@CbRkAl@E`BKj@C`@CXAzDUPAnDSx@El...     DRIVING  \n",
       "4  {bssB_x_~Q?fA?xA@f@@d@@f@?t@BRFf@N\\j@j@LLdA|@x...     DRIVING  "
      ]
     },
     "execution_count": 137,
     "metadata": {},
     "output_type": "execute_result"
    }
   ],
   "source": [
    "route_step_df.head()"
   ]
  },
  {
   "cell_type": "code",
   "execution_count": 138,
   "metadata": {},
   "outputs": [
    {
     "data": {
      "text/html": [
       "<div>\n",
       "<style scoped>\n",
       "    .dataframe tbody tr th:only-of-type {\n",
       "        vertical-align: middle;\n",
       "    }\n",
       "\n",
       "    .dataframe tbody tr th {\n",
       "        vertical-align: top;\n",
       "    }\n",
       "\n",
       "    .dataframe thead th {\n",
       "        text-align: right;\n",
       "    }\n",
       "</style>\n",
       "<table border=\"1\" class=\"dataframe\">\n",
       "  <thead>\n",
       "    <tr style=\"text-align: right;\">\n",
       "      <th></th>\n",
       "      <th>Step</th>\n",
       "      <th>Distance</th>\n",
       "      <th>Duration</th>\n",
       "      <th>Start Location</th>\n",
       "      <th>End Location</th>\n",
       "      <th>Polyline</th>\n",
       "      <th>Travel Mode</th>\n",
       "    </tr>\n",
       "  </thead>\n",
       "  <tbody>\n",
       "    <tr>\n",
       "      <th>0</th>\n",
       "      <td>Head &lt;b&gt;east&lt;/b&gt;&lt;div style=\"font-size:0.9em\"&gt;R...</td>\n",
       "      <td>17 m</td>\n",
       "      <td>1 min</td>\n",
       "      <td>(19.229799, 99.5351103)</td>\n",
       "      <td>(19.2298321, 99.53526959999999)</td>\n",
       "      <td>gyjtBmmo~QE_@</td>\n",
       "      <td>DRIVING</td>\n",
       "    </tr>\n",
       "    <tr>\n",
       "      <th>1</th>\n",
       "      <td>Turn &lt;b&gt;left&lt;/b&gt;</td>\n",
       "      <td>0.4 km</td>\n",
       "      <td>1 min</td>\n",
       "      <td>(19.2298321, 99.53526959999999)</td>\n",
       "      <td>(19.2334781, 99.53407779999999)</td>\n",
       "      <td>myjtBmno~QgATcB\\aBZi@HIBG@KDGBIF_@P]P]JEBy@T]J...</td>\n",
       "      <td>DRIVING</td>\n",
       "    </tr>\n",
       "    <tr>\n",
       "      <th>2</th>\n",
       "      <td>Turn &lt;b&gt;left&lt;/b&gt;</td>\n",
       "      <td>2.0 km</td>\n",
       "      <td>3 mins</td>\n",
       "      <td>(19.2334781, 99.53407779999999)</td>\n",
       "      <td>(19.2328048, 99.5154929)</td>\n",
       "      <td>gpktB_go~Q?p@Ah@Cb@Eh@Gd@CREVAVAX?X?VBnC?X?R?l...</td>\n",
       "      <td>DRIVING</td>\n",
       "    </tr>\n",
       "    <tr>\n",
       "      <th>3</th>\n",
       "      <td>Turn &lt;b&gt;left&lt;/b&gt; onto &lt;b&gt;Route 118&lt;/b&gt;&lt;div sty...</td>\n",
       "      <td>17.4 km</td>\n",
       "      <td>16 mins</td>\n",
       "      <td>(19.2328048, 99.5154929)</td>\n",
       "      <td>(19.1084592, 99.4548835)</td>\n",
       "      <td>_lktByrk~QvDWb@CbRkAl@E`BKj@C`@CXAzDUPAnDSx@El...</td>\n",
       "      <td>DRIVING</td>\n",
       "    </tr>\n",
       "    <tr>\n",
       "      <th>4</th>\n",
       "      <td>Continue straight to stay on &lt;b&gt;Route 118&lt;/b&gt;</td>\n",
       "      <td>10.9 km</td>\n",
       "      <td>10 mins</td>\n",
       "      <td>(19.1084592, 99.4548835)</td>\n",
       "      <td>(19.0657027, 99.37485439999999)</td>\n",
       "      <td>{bssB_x_~Q?fA?xA@f@@d@@f@?t@BRFf@N\\j@j@LLdA|@x...</td>\n",
       "      <td>DRIVING</td>\n",
       "    </tr>\n",
       "  </tbody>\n",
       "</table>\n",
       "</div>"
      ],
      "text/plain": [
       "                                                Step Distance Duration   \n",
       "0  Head <b>east</b><div style=\"font-size:0.9em\">R...     17 m    1 min  \\\n",
       "1                                   Turn <b>left</b>   0.4 km    1 min   \n",
       "2                                   Turn <b>left</b>   2.0 km   3 mins   \n",
       "3  Turn <b>left</b> onto <b>Route 118</b><div sty...  17.4 km  16 mins   \n",
       "4      Continue straight to stay on <b>Route 118</b>  10.9 km  10 mins   \n",
       "\n",
       "                    Start Location                     End Location   \n",
       "0          (19.229799, 99.5351103)  (19.2298321, 99.53526959999999)  \\\n",
       "1  (19.2298321, 99.53526959999999)  (19.2334781, 99.53407779999999)   \n",
       "2  (19.2334781, 99.53407779999999)         (19.2328048, 99.5154929)   \n",
       "3         (19.2328048, 99.5154929)         (19.1084592, 99.4548835)   \n",
       "4         (19.1084592, 99.4548835)  (19.0657027, 99.37485439999999)   \n",
       "\n",
       "                                            Polyline Travel Mode  \n",
       "0                                      gyjtBmmo~QE_@     DRIVING  \n",
       "1  myjtBmno~QgATcB\\aBZi@HIBG@KDGBIF_@P]P]JEBy@T]J...     DRIVING  \n",
       "2  gpktB_go~Q?p@Ah@Cb@Eh@Gd@CREVAVAX?X?VBnC?X?R?l...     DRIVING  \n",
       "3  _lktByrk~QvDWb@CbRkAl@E`BKj@C`@CXAzDUPAnDSx@El...     DRIVING  \n",
       "4  {bssB_x_~Q?fA?xA@f@@d@@f@?t@BRFf@N\\j@j@LLdA|@x...     DRIVING  "
      ]
     },
     "execution_count": 138,
     "metadata": {},
     "output_type": "execute_result"
    }
   ],
   "source": [
    "route_step_df['Start Location'] = route_step_df['Start Location'].apply(lambda x : (x['lat'],x['lng']))\n",
    "route_step_df['End Location'] = route_step_df['End Location'].apply(lambda x : (x['lat'],x['lng']))\n",
    "route_step_df.head()"
   ]
  },
  {
   "cell_type": "code",
   "execution_count": 180,
   "metadata": {},
   "outputs": [],
   "source": [
    "import gmaps\n",
    "gmaps.configure(api_key=\"\")\n",
    "fig = gmaps.figure()\n",
    "layers = gmaps.directions.Directions(origin_location, destination_location,mode=\"driving\",departure_time=now)\n",
    "fig.add_layer(layers)"
   ]
  },
  {
   "cell_type": "code",
   "execution_count": 171,
   "metadata": {},
   "outputs": [
    {
     "data": {
      "application/vnd.plotly.v1+json": {
       "config": {
        "plotlyServerURL": "https://plot.ly"
       },
       "data": [
        {
         "hovertemplate": "lat=%{lat}<br>long=%{lon}<extra></extra>",
         "lat": [
          19.229799,
          19.2298321,
          19.2334781,
          19.2328048,
          19.1084592,
          19.0657027,
          18.9548987,
          18.9247568,
          18.9196562,
          18.9181215,
          18.913024,
          18.8274482,
          18.8038798,
          18.8096567,
          18.8096598,
          18.8098824,
          18.8107214,
          18.801339,
          18.8083079,
          18.805932,
          18.8053702,
          18.8039486
         ],
         "legendgroup": "",
         "lon": [
          99.5351103,
          99.53526959999999,
          99.53407779999999,
          99.5154929,
          99.4548835,
          99.37485439999999,
          99.23459659999999,
          99.23970059999999,
          99.23739479999999,
          99.2355166,
          99.226484,
          99.04943259999999,
          99.0184781,
          99.0064415,
          99.0061673,
          99.005681,
          98.978161,
          98.96794249999999,
          98.9547874,
          98.95347509999999,
          98.9546029,
          98.95388469999999
         ],
         "marker": {
          "color": "#636efa"
         },
         "mode": "markers",
         "name": "",
         "showlegend": false,
         "subplot": "mapbox",
         "type": "scattermapbox"
        }
       ],
       "layout": {
        "height": 600,
        "legend": {
         "tracegroupgap": 0
        },
        "mapbox": {
         "center": {
          "lat": 18.93757632272727,
          "lon": 99.1805652363636
         },
         "domain": {
          "x": [
           0,
           1
          ],
          "y": [
           0,
           1
          ]
         },
         "style": "open-street-map",
         "zoom": 10
        },
        "margin": {
         "b": 0,
         "l": 0,
         "r": 0,
         "t": 0
        },
        "template": {
         "data": {
          "bar": [
           {
            "error_x": {
             "color": "#2a3f5f"
            },
            "error_y": {
             "color": "#2a3f5f"
            },
            "marker": {
             "line": {
              "color": "#E5ECF6",
              "width": 0.5
             },
             "pattern": {
              "fillmode": "overlay",
              "size": 10,
              "solidity": 0.2
             }
            },
            "type": "bar"
           }
          ],
          "barpolar": [
           {
            "marker": {
             "line": {
              "color": "#E5ECF6",
              "width": 0.5
             },
             "pattern": {
              "fillmode": "overlay",
              "size": 10,
              "solidity": 0.2
             }
            },
            "type": "barpolar"
           }
          ],
          "carpet": [
           {
            "aaxis": {
             "endlinecolor": "#2a3f5f",
             "gridcolor": "white",
             "linecolor": "white",
             "minorgridcolor": "white",
             "startlinecolor": "#2a3f5f"
            },
            "baxis": {
             "endlinecolor": "#2a3f5f",
             "gridcolor": "white",
             "linecolor": "white",
             "minorgridcolor": "white",
             "startlinecolor": "#2a3f5f"
            },
            "type": "carpet"
           }
          ],
          "choropleth": [
           {
            "colorbar": {
             "outlinewidth": 0,
             "ticks": ""
            },
            "type": "choropleth"
           }
          ],
          "contour": [
           {
            "colorbar": {
             "outlinewidth": 0,
             "ticks": ""
            },
            "colorscale": [
             [
              0,
              "#0d0887"
             ],
             [
              0.1111111111111111,
              "#46039f"
             ],
             [
              0.2222222222222222,
              "#7201a8"
             ],
             [
              0.3333333333333333,
              "#9c179e"
             ],
             [
              0.4444444444444444,
              "#bd3786"
             ],
             [
              0.5555555555555556,
              "#d8576b"
             ],
             [
              0.6666666666666666,
              "#ed7953"
             ],
             [
              0.7777777777777778,
              "#fb9f3a"
             ],
             [
              0.8888888888888888,
              "#fdca26"
             ],
             [
              1,
              "#f0f921"
             ]
            ],
            "type": "contour"
           }
          ],
          "contourcarpet": [
           {
            "colorbar": {
             "outlinewidth": 0,
             "ticks": ""
            },
            "type": "contourcarpet"
           }
          ],
          "heatmap": [
           {
            "colorbar": {
             "outlinewidth": 0,
             "ticks": ""
            },
            "colorscale": [
             [
              0,
              "#0d0887"
             ],
             [
              0.1111111111111111,
              "#46039f"
             ],
             [
              0.2222222222222222,
              "#7201a8"
             ],
             [
              0.3333333333333333,
              "#9c179e"
             ],
             [
              0.4444444444444444,
              "#bd3786"
             ],
             [
              0.5555555555555556,
              "#d8576b"
             ],
             [
              0.6666666666666666,
              "#ed7953"
             ],
             [
              0.7777777777777778,
              "#fb9f3a"
             ],
             [
              0.8888888888888888,
              "#fdca26"
             ],
             [
              1,
              "#f0f921"
             ]
            ],
            "type": "heatmap"
           }
          ],
          "heatmapgl": [
           {
            "colorbar": {
             "outlinewidth": 0,
             "ticks": ""
            },
            "colorscale": [
             [
              0,
              "#0d0887"
             ],
             [
              0.1111111111111111,
              "#46039f"
             ],
             [
              0.2222222222222222,
              "#7201a8"
             ],
             [
              0.3333333333333333,
              "#9c179e"
             ],
             [
              0.4444444444444444,
              "#bd3786"
             ],
             [
              0.5555555555555556,
              "#d8576b"
             ],
             [
              0.6666666666666666,
              "#ed7953"
             ],
             [
              0.7777777777777778,
              "#fb9f3a"
             ],
             [
              0.8888888888888888,
              "#fdca26"
             ],
             [
              1,
              "#f0f921"
             ]
            ],
            "type": "heatmapgl"
           }
          ],
          "histogram": [
           {
            "marker": {
             "pattern": {
              "fillmode": "overlay",
              "size": 10,
              "solidity": 0.2
             }
            },
            "type": "histogram"
           }
          ],
          "histogram2d": [
           {
            "colorbar": {
             "outlinewidth": 0,
             "ticks": ""
            },
            "colorscale": [
             [
              0,
              "#0d0887"
             ],
             [
              0.1111111111111111,
              "#46039f"
             ],
             [
              0.2222222222222222,
              "#7201a8"
             ],
             [
              0.3333333333333333,
              "#9c179e"
             ],
             [
              0.4444444444444444,
              "#bd3786"
             ],
             [
              0.5555555555555556,
              "#d8576b"
             ],
             [
              0.6666666666666666,
              "#ed7953"
             ],
             [
              0.7777777777777778,
              "#fb9f3a"
             ],
             [
              0.8888888888888888,
              "#fdca26"
             ],
             [
              1,
              "#f0f921"
             ]
            ],
            "type": "histogram2d"
           }
          ],
          "histogram2dcontour": [
           {
            "colorbar": {
             "outlinewidth": 0,
             "ticks": ""
            },
            "colorscale": [
             [
              0,
              "#0d0887"
             ],
             [
              0.1111111111111111,
              "#46039f"
             ],
             [
              0.2222222222222222,
              "#7201a8"
             ],
             [
              0.3333333333333333,
              "#9c179e"
             ],
             [
              0.4444444444444444,
              "#bd3786"
             ],
             [
              0.5555555555555556,
              "#d8576b"
             ],
             [
              0.6666666666666666,
              "#ed7953"
             ],
             [
              0.7777777777777778,
              "#fb9f3a"
             ],
             [
              0.8888888888888888,
              "#fdca26"
             ],
             [
              1,
              "#f0f921"
             ]
            ],
            "type": "histogram2dcontour"
           }
          ],
          "mesh3d": [
           {
            "colorbar": {
             "outlinewidth": 0,
             "ticks": ""
            },
            "type": "mesh3d"
           }
          ],
          "parcoords": [
           {
            "line": {
             "colorbar": {
              "outlinewidth": 0,
              "ticks": ""
             }
            },
            "type": "parcoords"
           }
          ],
          "pie": [
           {
            "automargin": true,
            "type": "pie"
           }
          ],
          "scatter": [
           {
            "fillpattern": {
             "fillmode": "overlay",
             "size": 10,
             "solidity": 0.2
            },
            "type": "scatter"
           }
          ],
          "scatter3d": [
           {
            "line": {
             "colorbar": {
              "outlinewidth": 0,
              "ticks": ""
             }
            },
            "marker": {
             "colorbar": {
              "outlinewidth": 0,
              "ticks": ""
             }
            },
            "type": "scatter3d"
           }
          ],
          "scattercarpet": [
           {
            "marker": {
             "colorbar": {
              "outlinewidth": 0,
              "ticks": ""
             }
            },
            "type": "scattercarpet"
           }
          ],
          "scattergeo": [
           {
            "marker": {
             "colorbar": {
              "outlinewidth": 0,
              "ticks": ""
             }
            },
            "type": "scattergeo"
           }
          ],
          "scattergl": [
           {
            "marker": {
             "colorbar": {
              "outlinewidth": 0,
              "ticks": ""
             }
            },
            "type": "scattergl"
           }
          ],
          "scattermapbox": [
           {
            "marker": {
             "colorbar": {
              "outlinewidth": 0,
              "ticks": ""
             }
            },
            "type": "scattermapbox"
           }
          ],
          "scatterpolar": [
           {
            "marker": {
             "colorbar": {
              "outlinewidth": 0,
              "ticks": ""
             }
            },
            "type": "scatterpolar"
           }
          ],
          "scatterpolargl": [
           {
            "marker": {
             "colorbar": {
              "outlinewidth": 0,
              "ticks": ""
             }
            },
            "type": "scatterpolargl"
           }
          ],
          "scatterternary": [
           {
            "marker": {
             "colorbar": {
              "outlinewidth": 0,
              "ticks": ""
             }
            },
            "type": "scatterternary"
           }
          ],
          "surface": [
           {
            "colorbar": {
             "outlinewidth": 0,
             "ticks": ""
            },
            "colorscale": [
             [
              0,
              "#0d0887"
             ],
             [
              0.1111111111111111,
              "#46039f"
             ],
             [
              0.2222222222222222,
              "#7201a8"
             ],
             [
              0.3333333333333333,
              "#9c179e"
             ],
             [
              0.4444444444444444,
              "#bd3786"
             ],
             [
              0.5555555555555556,
              "#d8576b"
             ],
             [
              0.6666666666666666,
              "#ed7953"
             ],
             [
              0.7777777777777778,
              "#fb9f3a"
             ],
             [
              0.8888888888888888,
              "#fdca26"
             ],
             [
              1,
              "#f0f921"
             ]
            ],
            "type": "surface"
           }
          ],
          "table": [
           {
            "cells": {
             "fill": {
              "color": "#EBF0F8"
             },
             "line": {
              "color": "white"
             }
            },
            "header": {
             "fill": {
              "color": "#C8D4E3"
             },
             "line": {
              "color": "white"
             }
            },
            "type": "table"
           }
          ]
         },
         "layout": {
          "annotationdefaults": {
           "arrowcolor": "#2a3f5f",
           "arrowhead": 0,
           "arrowwidth": 1
          },
          "autotypenumbers": "strict",
          "coloraxis": {
           "colorbar": {
            "outlinewidth": 0,
            "ticks": ""
           }
          },
          "colorscale": {
           "diverging": [
            [
             0,
             "#8e0152"
            ],
            [
             0.1,
             "#c51b7d"
            ],
            [
             0.2,
             "#de77ae"
            ],
            [
             0.3,
             "#f1b6da"
            ],
            [
             0.4,
             "#fde0ef"
            ],
            [
             0.5,
             "#f7f7f7"
            ],
            [
             0.6,
             "#e6f5d0"
            ],
            [
             0.7,
             "#b8e186"
            ],
            [
             0.8,
             "#7fbc41"
            ],
            [
             0.9,
             "#4d9221"
            ],
            [
             1,
             "#276419"
            ]
           ],
           "sequential": [
            [
             0,
             "#0d0887"
            ],
            [
             0.1111111111111111,
             "#46039f"
            ],
            [
             0.2222222222222222,
             "#7201a8"
            ],
            [
             0.3333333333333333,
             "#9c179e"
            ],
            [
             0.4444444444444444,
             "#bd3786"
            ],
            [
             0.5555555555555556,
             "#d8576b"
            ],
            [
             0.6666666666666666,
             "#ed7953"
            ],
            [
             0.7777777777777778,
             "#fb9f3a"
            ],
            [
             0.8888888888888888,
             "#fdca26"
            ],
            [
             1,
             "#f0f921"
            ]
           ],
           "sequentialminus": [
            [
             0,
             "#0d0887"
            ],
            [
             0.1111111111111111,
             "#46039f"
            ],
            [
             0.2222222222222222,
             "#7201a8"
            ],
            [
             0.3333333333333333,
             "#9c179e"
            ],
            [
             0.4444444444444444,
             "#bd3786"
            ],
            [
             0.5555555555555556,
             "#d8576b"
            ],
            [
             0.6666666666666666,
             "#ed7953"
            ],
            [
             0.7777777777777778,
             "#fb9f3a"
            ],
            [
             0.8888888888888888,
             "#fdca26"
            ],
            [
             1,
             "#f0f921"
            ]
           ]
          },
          "colorway": [
           "#636efa",
           "#EF553B",
           "#00cc96",
           "#ab63fa",
           "#FFA15A",
           "#19d3f3",
           "#FF6692",
           "#B6E880",
           "#FF97FF",
           "#FECB52"
          ],
          "font": {
           "color": "#2a3f5f"
          },
          "geo": {
           "bgcolor": "white",
           "lakecolor": "white",
           "landcolor": "#E5ECF6",
           "showlakes": true,
           "showland": true,
           "subunitcolor": "white"
          },
          "hoverlabel": {
           "align": "left"
          },
          "hovermode": "closest",
          "mapbox": {
           "style": "light"
          },
          "paper_bgcolor": "white",
          "plot_bgcolor": "#E5ECF6",
          "polar": {
           "angularaxis": {
            "gridcolor": "white",
            "linecolor": "white",
            "ticks": ""
           },
           "bgcolor": "#E5ECF6",
           "radialaxis": {
            "gridcolor": "white",
            "linecolor": "white",
            "ticks": ""
           }
          },
          "scene": {
           "xaxis": {
            "backgroundcolor": "#E5ECF6",
            "gridcolor": "white",
            "gridwidth": 2,
            "linecolor": "white",
            "showbackground": true,
            "ticks": "",
            "zerolinecolor": "white"
           },
           "yaxis": {
            "backgroundcolor": "#E5ECF6",
            "gridcolor": "white",
            "gridwidth": 2,
            "linecolor": "white",
            "showbackground": true,
            "ticks": "",
            "zerolinecolor": "white"
           },
           "zaxis": {
            "backgroundcolor": "#E5ECF6",
            "gridcolor": "white",
            "gridwidth": 2,
            "linecolor": "white",
            "showbackground": true,
            "ticks": "",
            "zerolinecolor": "white"
           }
          },
          "shapedefaults": {
           "line": {
            "color": "#2a3f5f"
           }
          },
          "ternary": {
           "aaxis": {
            "gridcolor": "white",
            "linecolor": "white",
            "ticks": ""
           },
           "baxis": {
            "gridcolor": "white",
            "linecolor": "white",
            "ticks": ""
           },
           "bgcolor": "#E5ECF6",
           "caxis": {
            "gridcolor": "white",
            "linecolor": "white",
            "ticks": ""
           }
          },
          "title": {
           "x": 0.05
          },
          "xaxis": {
           "automargin": true,
           "gridcolor": "white",
           "linecolor": "white",
           "ticks": "",
           "title": {
            "standoff": 15
           },
           "zerolinecolor": "white",
           "zerolinewidth": 2
          },
          "yaxis": {
           "automargin": true,
           "gridcolor": "white",
           "linecolor": "white",
           "ticks": "",
           "title": {
            "standoff": 15
           },
           "zerolinecolor": "white",
           "zerolinewidth": 2
          }
         }
        },
        "width": 900
       }
      }
     },
     "metadata": {},
     "output_type": "display_data"
    }
   ],
   "source": [
    "import plotly.graph_objects as go\n",
    "import plotly.express as px\n",
    "\n",
    "# Plotting the coordinates on map\n",
    "plot_df = pd.DataFrame({'lat': route_step_df['Start Location'].apply(lambda x: x[0]),\n",
    "                        'long': route_step_df['Start Location'].apply(lambda x: x[1])})\n",
    "\n",
    "fig = px.scatter_mapbox(plot_df, \n",
    "                        lat=\"lat\", \n",
    "                        lon=\"long\", \n",
    "                        zoom=10, \n",
    "                        height=600,\n",
    "                        width=900)\n",
    "\n",
    "fig.update_layout(mapbox_style=\"open-street-map\")\n",
    "fig.update_layout(margin={\"r\":0,\"t\":0,\"l\":0,\"b\":0})\n",
    "fig.show()"
   ]
  }
 ],
 "metadata": {
  "kernelspec": {
   "display_name": "Python 3",
   "language": "python",
   "name": "python3"
  },
  "language_info": {
   "codemirror_mode": {
    "name": "ipython",
    "version": 3
   },
   "file_extension": ".py",
   "mimetype": "text/x-python",
   "name": "python",
   "nbconvert_exporter": "python",
   "pygments_lexer": "ipython3",
   "version": "3.11.4"
  }
 },
 "nbformat": 4,
 "nbformat_minor": 2
}
